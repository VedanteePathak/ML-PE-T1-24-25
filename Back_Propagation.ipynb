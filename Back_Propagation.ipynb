{
  "nbformat": 4,
  "nbformat_minor": 0,
  "metadata": {
    "colab": {
      "provenance": []
    },
    "kernelspec": {
      "name": "python3",
      "display_name": "Python 3"
    },
    "language_info": {
      "name": "python"
    }
  },
  "cells": [
    {
      "cell_type": "code",
      "execution_count": 1,
      "metadata": {
        "id": "8eV7soWTKJ6O"
      },
      "outputs": [],
      "source": [
        "import numpy as np\n",
        "\n",
        "class NeuralNetwork:\n",
        "    def __init__(self, input_size, hidden_size, output_size):\n",
        "        self.input_size = input_size\n",
        "        self.hidden_size = hidden_size\n",
        "        self.output_size = output_size\n",
        "        self.weights1 = np.random.randn(self.input_size, self.hidden_size)\n",
        "        self.weights2 = np.random.randn(self.hidden_size, self.output_size)\n",
        "        self.bias1 = np.zeros((1, self.hidden_size))\n",
        "        self.bias2 = np.zeros((1, self.output_size))\n",
        "\n",
        "    def sigmoid(self, x):\n",
        "        return 1 / (1 + np.exp(-x))\n",
        "\n",
        "    def sigmoid_derivative(self, x):\n",
        "        return x * (1 - x)\n",
        "\n",
        "    def mse_loss(self, y_true, y_pred):\n",
        "        return np.mean((y_true - y_pred) ** 2)\n",
        "\n",
        "    def mse_loss_derivative(self, y_true, y_pred):\n",
        "        return 2 * (y_pred - y_true) / len(y_true)\n",
        "\n",
        "    def forward_pass(self, X):\n",
        "        self.hidden_layer_input = np.dot(X, self.weights1) + self.bias1\n",
        "        self.hidden_layer_output = self.sigmoid(self.hidden_layer_input)\n",
        "        self.output_layer_input = np.dot(self.hidden_layer_output, self.weights2) + self.bias2\n",
        "        self.output = self.sigmoid(self.output_layer_input)\n",
        "        return self.output\n",
        "\n",
        "    def backpropagation(self, X, y):\n",
        "        output_error = self.mse_loss_derivative(y, self.output)\n",
        "        output_delta = output_error * self.sigmoid_derivative(self.output)\n",
        "\n",
        "        hidden_error = np.dot(output_delta, self.weights2.T)\n",
        "        hidden_delta = hidden_error * self.sigmoid_derivative(self.hidden_layer_output)\n",
        "\n",
        "        self.weights2 -= np.dot(self.hidden_layer_output.T, output_delta)\n",
        "        self.bias2 -= np.sum(output_delta, axis=0, keepdims=True)\n",
        "        self.weights1 -= np.dot(X.T, hidden_delta)\n",
        "        self.bias1 -= np.sum(hidden_delta, axis=0)\n",
        "\n",
        "    def train(self, X, y, epochs):\n",
        "        for _ in range(epochs):\n",
        "            self.forward_pass(X)\n",
        "            self.backpropagation(X, y)\n",
        "\n",
        "# Example usage\n",
        "X = np.array([[0, 0], [0, 1], [1, 0], [1, 1]])\n",
        "y = np.array([[0], [1], [1], [0]])\n",
        "\n",
        "model = NeuralNetwork(input_size=2, hidden_size=4, output_size=1)\n",
        "model.train(X, y, epochs=1000)"
      ]
    }
  ]
}