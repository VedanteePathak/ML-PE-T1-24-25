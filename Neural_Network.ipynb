{
  "nbformat": 4,
  "nbformat_minor": 0,
  "metadata": {
    "colab": {
      "provenance": []
    },
    "kernelspec": {
      "name": "python3",
      "display_name": "Python 3"
    },
    "language_info": {
      "name": "python"
    }
  },
  "cells": [
    {
      "cell_type": "code",
      "execution_count": 140,
      "metadata": {
        "id": "P40jjqjspLIl"
      },
      "outputs": [],
      "source": [
        "import numpy as np\n"
      ]
    },
    {
      "cell_type": "code",
      "source": [
        "input_value= np.array([[0,0],[0,1],[1,1],[1,0]])\n",
        "input_value.shape\n",
        "input_value"
      ],
      "metadata": {
        "colab": {
          "base_uri": "https://localhost:8080/"
        },
        "id": "ZeX0hl3updIs",
        "outputId": "f6ea5074-918c-4b17-8d41-e0a7b782f8c5"
      },
      "execution_count": 141,
      "outputs": [
        {
          "output_type": "execute_result",
          "data": {
            "text/plain": [
              "array([[0, 0],\n",
              "       [0, 1],\n",
              "       [1, 1],\n",
              "       [1, 0]])"
            ]
          },
          "metadata": {},
          "execution_count": 141
        }
      ]
    },
    {
      "cell_type": "code",
      "source": [
        "output_value= np.array([[0],[1],[1],[0]])\n",
        "output_value=output_value.reshape(4,1)\n",
        "# output_value.shape\n",
        "output_value"
      ],
      "metadata": {
        "colab": {
          "base_uri": "https://localhost:8080/"
        },
        "id": "RRkb-zw5pqi6",
        "outputId": "9028f012-5730-4be4-dedd-c96147c3f723"
      },
      "execution_count": 142,
      "outputs": [
        {
          "output_type": "execute_result",
          "data": {
            "text/plain": [
              "array([[0],\n",
              "       [1],\n",
              "       [1],\n",
              "       [0]])"
            ]
          },
          "metadata": {},
          "execution_count": 142
        }
      ]
    },
    {
      "cell_type": "code",
      "source": [
        "weight = np.array([[0.1],[0.2]])\n",
        "weight"
      ],
      "metadata": {
        "colab": {
          "base_uri": "https://localhost:8080/"
        },
        "id": "KuddQlIpqDFy",
        "outputId": "70c6ef6e-983d-4c03-e6af-b678aa45b0a2"
      },
      "execution_count": 143,
      "outputs": [
        {
          "output_type": "execute_result",
          "data": {
            "text/plain": [
              "array([[0.1],\n",
              "       [0.2]])"
            ]
          },
          "metadata": {},
          "execution_count": 143
        }
      ]
    },
    {
      "cell_type": "code",
      "source": [
        "# np.random.seed(1)\n",
        "# weight = np.random.rand(2, 1)\n",
        "# bias = np.random.rand(1)"
      ],
      "metadata": {
        "id": "-NS3bXwyUkpL"
      },
      "execution_count": 144,
      "outputs": []
    },
    {
      "cell_type": "code",
      "source": [
        "bias=0.3"
      ],
      "metadata": {
        "id": "3LeZP8DFqNJi"
      },
      "execution_count": 145,
      "outputs": []
    },
    {
      "cell_type": "code",
      "source": [
        "def sigmoid(x):\n",
        "    return 1/(1+np.exp(-x))"
      ],
      "metadata": {
        "id": "hbuhwAmCqVEG"
      },
      "execution_count": 146,
      "outputs": []
    },
    {
      "cell_type": "code",
      "source": [
        "def der_sigmoid(x):\n",
        "    return sigmoid(x)*(1-sigmoid(x))"
      ],
      "metadata": {
        "id": "naXDK5L4qZRu"
      },
      "execution_count": 147,
      "outputs": []
    },
    {
      "cell_type": "code",
      "source": [
        "def relu(x):\n",
        "    return np.maximum(0, x)"
      ],
      "metadata": {
        "id": "4FEVcO1dtBJh"
      },
      "execution_count": 148,
      "outputs": []
    },
    {
      "cell_type": "code",
      "source": [
        "def der_relu(x):\n",
        "    return np.where(x > 0, 1, 0)"
      ],
      "metadata": {
        "id": "oX27wL_ztCAs"
      },
      "execution_count": 149,
      "outputs": []
    },
    {
      "cell_type": "code",
      "source": [
        "def tanh(x):\n",
        "    return np.tanh(x)"
      ],
      "metadata": {
        "id": "NnDJPBI2tFnk"
      },
      "execution_count": 150,
      "outputs": []
    },
    {
      "cell_type": "code",
      "source": [
        "def der_tanh(x):\n",
        "    return 1 - np.tanh(x)**2"
      ],
      "metadata": {
        "id": "J7LN3KkgtH06"
      },
      "execution_count": 151,
      "outputs": []
    },
    {
      "cell_type": "code",
      "source": [
        "activation = sigmoid\n",
        "der_activation = der_sigmoid"
      ],
      "metadata": {
        "id": "R46XsoiOvEnc"
      },
      "execution_count": 152,
      "outputs": []
    },
    {
      "cell_type": "code",
      "source": [
        "for epochs in range(10000):\n",
        "    input_layer=input_value\n",
        "    weighted_sum=np.dot(input_layer,weight)+bias\n",
        "    output=activation(weighted_sum)\n",
        "    error=output_value-output\n",
        "    total_error=np.square(np.subtract(output_value,output)).mean()\n",
        "    #print(total_error)\n",
        "    slope=der_activation(output)\n",
        "    delta=error*slope\n",
        "    weight=weight - 0.01 * np.dot(input_layer.T,delta)\n",
        "    for i in delta:\n",
        "        bias=bias - 0.01 * i\n",
        "print(weight)\n",
        "print(bias)"
      ],
      "metadata": {
        "colab": {
          "base_uri": "https://localhost:8080/"
        },
        "id": "Z_tNjHjHqf4n",
        "outputId": "fc5bbf07-4a62-43aa-a368-df3e849c2a10"
      },
      "execution_count": 157,
      "outputs": [
        {
          "output_type": "stream",
          "name": "stdout",
          "text": [
            "[[215.36739508]\n",
            " [ -1.80114824]]\n",
            "[430.13395007]\n"
          ]
        }
      ]
    },
    {
      "cell_type": "code",
      "source": [
        "pred=np.array([1,0])\n",
        "result=np.dot(pred,weight)+bias\n",
        "res = activation(result)\n",
        "print(res)"
      ],
      "metadata": {
        "colab": {
          "base_uri": "https://localhost:8080/"
        },
        "id": "EcTl9dj1roUp",
        "outputId": "24fe3900-5d9a-41ff-aaf2-f3c39c516bf8"
      },
      "execution_count": 158,
      "outputs": [
        {
          "output_type": "stream",
          "name": "stdout",
          "text": [
            "[1.]\n"
          ]
        }
      ]
    },
    {
      "cell_type": "code",
      "source": [],
      "metadata": {
        "id": "-1XFdPpTr69Q"
      },
      "execution_count": null,
      "outputs": []
    }
  ]
}